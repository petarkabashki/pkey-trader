{
 "cells": [
  {
   "cell_type": "code",
   "execution_count": 1,
   "metadata": {},
   "outputs": [],
   "source": [
    "\n",
    "import uuid\n",
    "import pandas as pd\n",
    "import sys\n",
    "from pprint import pprint\n",
    "\n",
    "\n",
    "import sys, os\n",
    "sys.path.append(os.path.abspath('.'))\n",
    "\n",
    "from itertools import *\n",
    "import ccxt\n"
   ]
  },
  {
   "cell_type": "code",
   "execution_count": 2,
   "metadata": {},
   "outputs": [
    {
     "data": {
      "text/plain": [
       "{'apiKey': '655f763effa2720001d2f3f4',\n",
       " 'secret': '1f52656e-dd97-4c72-9a8b-eb0dc3171f8d',\n",
       " 'password': '#2M%RSN$c*4f1jDYVCiOUmTJf$#RYF'}"
      ]
     },
     "execution_count": 2,
     "metadata": {},
     "output_type": "execute_result"
    }
   ],
   "source": [
    "from api_config import *\n",
    "creds"
   ]
  },
  {
   "cell_type": "code",
   "execution_count": 3,
   "metadata": {},
   "outputs": [
    {
     "name": "stdout",
     "output_type": "stream",
     "text": [
      "python 3.10.13 | packaged by conda-forge | (main, Oct 26 2023, 18:07:37) [GCC 12.3.0]\n",
      "CCXT Version: 4.1.63\n"
     ]
    }
   ],
   "source": [
    "\n",
    "print('python', sys.version)\n",
    "print('CCXT Version:', ccxt.__version__)\n"
   ]
  },
  {
   "cell_type": "code",
   "execution_count": 4,
   "metadata": {},
   "outputs": [
    {
     "data": {
      "text/html": [
       "<div>\n",
       "<style scoped>\n",
       "    .dataframe tbody tr th:only-of-type {\n",
       "        vertical-align: middle;\n",
       "    }\n",
       "\n",
       "    .dataframe tbody tr th {\n",
       "        vertical-align: top;\n",
       "    }\n",
       "\n",
       "    .dataframe thead th {\n",
       "        text-align: right;\n",
       "    }\n",
       "</style>\n",
       "<table border=\"1\" class=\"dataframe\">\n",
       "  <thead>\n",
       "    <tr style=\"text-align: right;\">\n",
       "      <th></th>\n",
       "      <th>id</th>\n",
       "      <th>lowercaseId</th>\n",
       "      <th>symbol</th>\n",
       "      <th>base</th>\n",
       "      <th>quote</th>\n",
       "      <th>settle</th>\n",
       "      <th>baseId</th>\n",
       "      <th>quoteId</th>\n",
       "      <th>settleId</th>\n",
       "      <th>type</th>\n",
       "      <th>...</th>\n",
       "      <th>expiryDatetime</th>\n",
       "      <th>strike</th>\n",
       "      <th>optionType</th>\n",
       "      <th>precision</th>\n",
       "      <th>limits</th>\n",
       "      <th>created</th>\n",
       "      <th>info</th>\n",
       "      <th>percentage</th>\n",
       "      <th>tierBased</th>\n",
       "      <th>tiers</th>\n",
       "    </tr>\n",
       "  </thead>\n",
       "  <tbody>\n",
       "    <tr>\n",
       "      <th>BTC/USDT:USDT</th>\n",
       "      <td>XBTUSDTM</td>\n",
       "      <td>None</td>\n",
       "      <td>BTC/USDT:USDT</td>\n",
       "      <td>BTC</td>\n",
       "      <td>USDT</td>\n",
       "      <td>USDT</td>\n",
       "      <td>XBT</td>\n",
       "      <td>USDT</td>\n",
       "      <td>USDT</td>\n",
       "      <td>swap</td>\n",
       "      <td>...</td>\n",
       "      <td>None</td>\n",
       "      <td>None</td>\n",
       "      <td>None</td>\n",
       "      <td>{'amount': 1.0, 'price': 0.1, 'cost': None, 'b...</td>\n",
       "      <td>{'leverage': {'min': 1.0, 'max': 125.0}, 'amou...</td>\n",
       "      <td>1585555200000</td>\n",
       "      <td>{'symbol': 'XBTUSDTM', 'rootSymbol': 'USDT', '...</td>\n",
       "      <td>True</td>\n",
       "      <td>True</td>\n",
       "      <td>{'taker': [[0.0, 0.0006], [50.0, 0.0006], [200...</td>\n",
       "    </tr>\n",
       "    <tr>\n",
       "      <th>BTC/USD:BTC</th>\n",
       "      <td>XBTUSDM</td>\n",
       "      <td>None</td>\n",
       "      <td>BTC/USD:BTC</td>\n",
       "      <td>BTC</td>\n",
       "      <td>USD</td>\n",
       "      <td>BTC</td>\n",
       "      <td>XBT</td>\n",
       "      <td>USD</td>\n",
       "      <td>XBT</td>\n",
       "      <td>swap</td>\n",
       "      <td>...</td>\n",
       "      <td>None</td>\n",
       "      <td>None</td>\n",
       "      <td>None</td>\n",
       "      <td>{'amount': 1.0, 'price': 0.1, 'cost': None, 'b...</td>\n",
       "      <td>{'leverage': {'min': 1.0, 'max': 50.0}, 'amoun...</td>\n",
       "      <td>1552638575000</td>\n",
       "      <td>{'symbol': 'XBTUSDM', 'rootSymbol': 'XBT', 'ty...</td>\n",
       "      <td>True</td>\n",
       "      <td>True</td>\n",
       "      <td>{'taker': [[0.0, 0.0006], [50.0, 0.0006], [200...</td>\n",
       "    </tr>\n",
       "    <tr>\n",
       "      <th>ETH/USDT:USDT</th>\n",
       "      <td>ETHUSDTM</td>\n",
       "      <td>None</td>\n",
       "      <td>ETH/USDT:USDT</td>\n",
       "      <td>ETH</td>\n",
       "      <td>USDT</td>\n",
       "      <td>USDT</td>\n",
       "      <td>ETH</td>\n",
       "      <td>USDT</td>\n",
       "      <td>USDT</td>\n",
       "      <td>swap</td>\n",
       "      <td>...</td>\n",
       "      <td>None</td>\n",
       "      <td>None</td>\n",
       "      <td>None</td>\n",
       "      <td>{'amount': 1.0, 'price': 0.01, 'cost': None, '...</td>\n",
       "      <td>{'leverage': {'min': 1.0, 'max': 100.0}, 'amou...</td>\n",
       "      <td>1591086000000</td>\n",
       "      <td>{'symbol': 'ETHUSDTM', 'rootSymbol': 'USDT', '...</td>\n",
       "      <td>True</td>\n",
       "      <td>True</td>\n",
       "      <td>{'taker': [[0.0, 0.0006], [50.0, 0.0006], [200...</td>\n",
       "    </tr>\n",
       "    <tr>\n",
       "      <th>BCH/USDT:USDT</th>\n",
       "      <td>BCHUSDTM</td>\n",
       "      <td>None</td>\n",
       "      <td>BCH/USDT:USDT</td>\n",
       "      <td>BCH</td>\n",
       "      <td>USDT</td>\n",
       "      <td>USDT</td>\n",
       "      <td>BCH</td>\n",
       "      <td>USDT</td>\n",
       "      <td>USDT</td>\n",
       "      <td>swap</td>\n",
       "      <td>...</td>\n",
       "      <td>None</td>\n",
       "      <td>None</td>\n",
       "      <td>None</td>\n",
       "      <td>{'amount': 1.0, 'price': 0.01, 'cost': None, '...</td>\n",
       "      <td>{'leverage': {'min': 1.0, 'max': 75.0}, 'amoun...</td>\n",
       "      <td>1595406600000</td>\n",
       "      <td>{'symbol': 'BCHUSDTM', 'rootSymbol': 'USDT', '...</td>\n",
       "      <td>True</td>\n",
       "      <td>True</td>\n",
       "      <td>{'taker': [[0.0, 0.0006], [50.0, 0.0006], [200...</td>\n",
       "    </tr>\n",
       "    <tr>\n",
       "      <th>BSV/USDT:USDT</th>\n",
       "      <td>BSVUSDTM</td>\n",
       "      <td>None</td>\n",
       "      <td>BSV/USDT:USDT</td>\n",
       "      <td>BSV</td>\n",
       "      <td>USDT</td>\n",
       "      <td>USDT</td>\n",
       "      <td>BSV</td>\n",
       "      <td>USDT</td>\n",
       "      <td>USDT</td>\n",
       "      <td>swap</td>\n",
       "      <td>...</td>\n",
       "      <td>None</td>\n",
       "      <td>None</td>\n",
       "      <td>None</td>\n",
       "      <td>{'amount': 1.0, 'price': 0.01, 'cost': None, '...</td>\n",
       "      <td>{'leverage': {'min': 1.0, 'max': 50.0}, 'amoun...</td>\n",
       "      <td>1595406600000</td>\n",
       "      <td>{'symbol': 'BSVUSDTM', 'rootSymbol': 'USDT', '...</td>\n",
       "      <td>True</td>\n",
       "      <td>True</td>\n",
       "      <td>{'taker': [[0.0, 0.0006], [50.0, 0.0006], [200...</td>\n",
       "    </tr>\n",
       "  </tbody>\n",
       "</table>\n",
       "<p>5 rows × 34 columns</p>\n",
       "</div>"
      ],
      "text/plain": [
       "                     id lowercaseId         symbol base quote settle baseId  \\\n",
       "BTC/USDT:USDT  XBTUSDTM        None  BTC/USDT:USDT  BTC  USDT   USDT    XBT   \n",
       "BTC/USD:BTC     XBTUSDM        None    BTC/USD:BTC  BTC   USD    BTC    XBT   \n",
       "ETH/USDT:USDT  ETHUSDTM        None  ETH/USDT:USDT  ETH  USDT   USDT    ETH   \n",
       "BCH/USDT:USDT  BCHUSDTM        None  BCH/USDT:USDT  BCH  USDT   USDT    BCH   \n",
       "BSV/USDT:USDT  BSVUSDTM        None  BSV/USDT:USDT  BSV  USDT   USDT    BSV   \n",
       "\n",
       "              quoteId settleId  type  ... expiryDatetime strike optionType  \\\n",
       "BTC/USDT:USDT    USDT     USDT  swap  ...           None   None       None   \n",
       "BTC/USD:BTC       USD      XBT  swap  ...           None   None       None   \n",
       "ETH/USDT:USDT    USDT     USDT  swap  ...           None   None       None   \n",
       "BCH/USDT:USDT    USDT     USDT  swap  ...           None   None       None   \n",
       "BSV/USDT:USDT    USDT     USDT  swap  ...           None   None       None   \n",
       "\n",
       "                                                       precision  \\\n",
       "BTC/USDT:USDT  {'amount': 1.0, 'price': 0.1, 'cost': None, 'b...   \n",
       "BTC/USD:BTC    {'amount': 1.0, 'price': 0.1, 'cost': None, 'b...   \n",
       "ETH/USDT:USDT  {'amount': 1.0, 'price': 0.01, 'cost': None, '...   \n",
       "BCH/USDT:USDT  {'amount': 1.0, 'price': 0.01, 'cost': None, '...   \n",
       "BSV/USDT:USDT  {'amount': 1.0, 'price': 0.01, 'cost': None, '...   \n",
       "\n",
       "                                                          limits  \\\n",
       "BTC/USDT:USDT  {'leverage': {'min': 1.0, 'max': 125.0}, 'amou...   \n",
       "BTC/USD:BTC    {'leverage': {'min': 1.0, 'max': 50.0}, 'amoun...   \n",
       "ETH/USDT:USDT  {'leverage': {'min': 1.0, 'max': 100.0}, 'amou...   \n",
       "BCH/USDT:USDT  {'leverage': {'min': 1.0, 'max': 75.0}, 'amoun...   \n",
       "BSV/USDT:USDT  {'leverage': {'min': 1.0, 'max': 50.0}, 'amoun...   \n",
       "\n",
       "                     created  \\\n",
       "BTC/USDT:USDT  1585555200000   \n",
       "BTC/USD:BTC    1552638575000   \n",
       "ETH/USDT:USDT  1591086000000   \n",
       "BCH/USDT:USDT  1595406600000   \n",
       "BSV/USDT:USDT  1595406600000   \n",
       "\n",
       "                                                            info percentage  \\\n",
       "BTC/USDT:USDT  {'symbol': 'XBTUSDTM', 'rootSymbol': 'USDT', '...       True   \n",
       "BTC/USD:BTC    {'symbol': 'XBTUSDM', 'rootSymbol': 'XBT', 'ty...       True   \n",
       "ETH/USDT:USDT  {'symbol': 'ETHUSDTM', 'rootSymbol': 'USDT', '...       True   \n",
       "BCH/USDT:USDT  {'symbol': 'BCHUSDTM', 'rootSymbol': 'USDT', '...       True   \n",
       "BSV/USDT:USDT  {'symbol': 'BSVUSDTM', 'rootSymbol': 'USDT', '...       True   \n",
       "\n",
       "              tierBased                                              tiers  \n",
       "BTC/USDT:USDT      True  {'taker': [[0.0, 0.0006], [50.0, 0.0006], [200...  \n",
       "BTC/USD:BTC        True  {'taker': [[0.0, 0.0006], [50.0, 0.0006], [200...  \n",
       "ETH/USDT:USDT      True  {'taker': [[0.0, 0.0006], [50.0, 0.0006], [200...  \n",
       "BCH/USDT:USDT      True  {'taker': [[0.0, 0.0006], [50.0, 0.0006], [200...  \n",
       "BSV/USDT:USDT      True  {'taker': [[0.0, 0.0006], [50.0, 0.0006], [200...  \n",
       "\n",
       "[5 rows x 34 columns]"
      ]
     },
     "execution_count": 4,
     "metadata": {},
     "output_type": "execute_result"
    }
   ],
   "source": [
    "\n",
    "exchange = ccxt.kucoinfutures({\n",
    "    'adjustForTimeDifference': True,\n",
    "    **creds\n",
    "})\n",
    "# exchange.verbose = True\n",
    "\n",
    "securities = pd.DataFrame(exchange.load_markets()).transpose()\n",
    "securities.head()\n",
    "# pprint(securities)"
   ]
  },
  {
   "cell_type": "code",
   "execution_count": null,
   "metadata": {},
   "outputs": [],
   "source": []
  },
  {
   "cell_type": "code",
   "execution_count": 110,
   "metadata": {},
   "outputs": [
    {
     "data": {
      "text/plain": [
       "['DOTUSDTM', 'SOLUSDTM']"
      ]
     },
     "execution_count": 110,
     "metadata": {},
     "output_type": "execute_result"
    }
   ],
   "source": [
    "for symbolId in [x['symbol'] for x in exchange.futuresPrivateGetPositions(params={})['data']]: close_position(symbolId=symbolId)\n"
   ]
  },
  {
   "cell_type": "code",
   "execution_count": 155,
   "metadata": {},
   "outputs": [
    {
     "data": {
      "text/plain": [
       "{'code': '200000',\n",
       " 'data': {'id': '300000000000229644',\n",
       "  'symbol': 'SOLUSDTM',\n",
       "  'autoDeposit': False,\n",
       "  'maintMarginReq': 0.007,\n",
       "  'riskLimit': 20000,\n",
       "  'realLeverage': 10.12,\n",
       "  'crossMode': False,\n",
       "  'delevPercentage': 0.52,\n",
       "  'openingTimestamp': 1700790049904,\n",
       "  'currentTimestamp': 1700790231576,\n",
       "  'currentQty': -3,\n",
       "  'currentCost': -17.0907,\n",
       "  'currentComm': 0.01025442,\n",
       "  'unrealisedCost': -17.0907,\n",
       "  'realisedGrossCost': 0.0,\n",
       "  'realisedCost': 0.01025442,\n",
       "  'isOpen': True,\n",
       "  'markPrice': 57.034,\n",
       "  'markValue': -17.1102,\n",
       "  'posCost': -17.0907,\n",
       "  'posCross': 0,\n",
       "  'posCrossMargin': 0.0,\n",
       "  'posInit': 1.70907,\n",
       "  'posComm': 0.011279862,\n",
       "  'posCommCommon': 0.01127986,\n",
       "  'posLoss': 0.0,\n",
       "  'posMargin': 1.720349862,\n",
       "  'posMaint': 0.13091476,\n",
       "  'maintMargin': 1.700849862,\n",
       "  'realisedGrossPnl': 0.0,\n",
       "  'realisedPnl': -0.01025442,\n",
       "  'unrealisedPnl': -0.0195,\n",
       "  'unrealisedPnlPcnt': -0.0011,\n",
       "  'unrealisedRoePcnt': -0.0114,\n",
       "  'avgEntryPrice': 56.969,\n",
       "  'liquidationPrice': 62.267,\n",
       "  'bankruptPrice': 62.666,\n",
       "  'settleCurrency': 'USDT',\n",
       "  'maintainMargin': 0.007,\n",
       "  'riskLimitLevel': 1}}"
      ]
     },
     "execution_count": 155,
     "metadata": {},
     "output_type": "execute_result"
    }
   ],
   "source": [
    "\n",
    "# canceled_orders = exchange.cancel_order(order['id'])\n",
    "# canceled_orders = exchange.cancel_all_orders()\n",
    "# canceled_orders\n",
    "# exchange.futuresPrivateDeleteStopOrders(symbol=pair)\n",
    "exchange.futuresPrivateGetPosition(params={'symbol': get_symbolId('SOL', 'USDT')})"
   ]
  },
  {
   "cell_type": "code",
   "execution_count": 143,
   "metadata": {},
   "outputs": [
    {
     "data": {
      "text/plain": [
       "{'info': {'code': '200000',\n",
       "  'data': {'accountEquity': 600.066818866,\n",
       "   'unrealisedPNL': 0.03762,\n",
       "   'marginBalance': 600.029198866,\n",
       "   'positionMargin': 1.224892761,\n",
       "   'orderMargin': 0.0,\n",
       "   'frozenFunds': 0.0,\n",
       "   'availableBalance': 598.841926105,\n",
       "   'currency': 'USDT'}},\n",
       " 'timestamp': None,\n",
       " 'datetime': None,\n",
       " 'USDT': {'free': 598.841926105, 'used': 1.224892761, 'total': 600.066818866},\n",
       " 'free': {'USDT': 598.841926105},\n",
       " 'used': {'USDT': 1.224892761},\n",
       " 'total': {'USDT': 600.066818866}}"
      ]
     },
     "execution_count": 143,
     "metadata": {},
     "output_type": "execute_result"
    }
   ],
   "source": [
    "exchange.fetch_balance()"
   ]
  },
  {
   "cell_type": "code",
   "execution_count": 77,
   "metadata": {},
   "outputs": [],
   "source": [
    "def get_symbol(base, quote): return f'{base}/{quote}:{quote}'\n",
    "def get_symbolId(base, quote): return securities.loc[get_symbol(base, quote)].id\n",
    "def get_position(base, quote): \n",
    "    symbol_id = get_symbolId(base, quote)\n",
    "    return [x for x in exchange.futuresPrivateGetPositions(params={'symbol': symbol_id})['data']  if x['symbol'] == symbol_id][0]"
   ]
  },
  {
   "cell_type": "code",
   "execution_count": 127,
   "metadata": {},
   "outputs": [
    {
     "data": {
      "text/plain": [
       "('ADA', 'USDT')"
      ]
     },
     "execution_count": 127,
     "metadata": {},
     "output_type": "execute_result"
    }
   ],
   "source": [
    "symbolId = 'ADAUSDTM'\n",
    "base, quote = securities[securities.id==symbolId][['base','quote']].iloc[0].values\n",
    "base, quote"
   ]
  },
  {
   "cell_type": "code",
   "execution_count": null,
   "metadata": {},
   "outputs": [],
   "source": [
    "# def close_position(symbolId=None, base=None, quote=None):\n",
    "base = 'SOL'\n",
    "quote = 'USDT'\n",
    "symbolId = get_symbol(base, quote)\n",
    "# if symbolId is None: \n",
    "#     symbolId = get_symbolId(base, quote)\n",
    "# else:\n",
    "#     base, quote = securities[securities.id==symbolId][['base','quote']].iloc[0].values\n",
    "\n",
    "# exchange.futuresPrivateGetStopOrders()\n",
    "# exchange.futuresPrivateDeleteStopOrders()\n",
    "# exchange.positions\n",
    "# exchange.cancelAllOrders(symbol, {'stop':True});\n",
    "position = get_position(base, quote)\n",
    "\n",
    "opposite_side = 'sell' if position['currentQty'] > 0 else 'buy'\n",
    "cancel_params = {'reduceOnly': True, 'leverage': position['realLeverage']}\n",
    "cancel_order = exchange.createOrder(symbolId, type, opposite_side, position['currentQty'], price=position['avgEntryPrice'], params=cancel_params)\n",
    "exchange.futuresPrivateDeleteStopOrders(params={'symbol': symbolId})"
   ]
  },
  {
   "cell_type": "code",
   "execution_count": null,
   "metadata": {},
   "outputs": [],
   "source": [
    "# next(x for x in  if x['symbol'] == symbol)\n",
    "# position = [x for x in exchange.futuresPrivateGetPositions(params={'symbol': symbol_id})['data']  if x['symbol'] == symbol_id]\n",
    "# get_position('SOL', 'USDT')\n",
    "close_position(base='SOL', quote='USDT')"
   ]
  },
  {
   "cell_type": "code",
   "execution_count": 158,
   "metadata": {},
   "outputs": [
    {
     "name": "stdout",
     "output_type": "stream",
     "text": [
      "{'price': 56.947,\n",
      " 'size': 32.43593902043466,\n",
      " 'stopLossPrice': 60.03,\n",
      " 'stop_range': -3.0829999999999984,\n",
      " 'takeProfitPrice': 51.72,\n",
      " 'total': 18471.294193966925}\n"
     ]
    },
    {
     "data": {
      "text/plain": [
       "{'order': {'id': '117344824880836610',\n",
       "  'clientOrderId': None,\n",
       "  'timestamp': None,\n",
       "  'datetime': None,\n",
       "  'lastTradeTimestamp': None,\n",
       "  'symbol': None,\n",
       "  'type': None,\n",
       "  'side': None,\n",
       "  'price': None,\n",
       "  'amount': None,\n",
       "  'cost': None,\n",
       "  'average': None,\n",
       "  'filled': None,\n",
       "  'remaining': None,\n",
       "  'status': None,\n",
       "  'fee': None,\n",
       "  'trades': [],\n",
       "  'timeInForce': None,\n",
       "  'postOnly': None,\n",
       "  'stopPrice': None,\n",
       "  'triggerPrice': None,\n",
       "  'info': {'code': '200000', 'data': {'orderId': '117344824880836610'}},\n",
       "  'fees': [],\n",
       "  'lastUpdateTimestamp': None,\n",
       "  'reduceOnly': None,\n",
       "  'takeProfitPrice': None,\n",
       "  'stopLossPrice': None},\n",
       " 'stopLoss_order': {'id': '117344826030030850',\n",
       "  'clientOrderId': None,\n",
       "  'timestamp': None,\n",
       "  'datetime': None,\n",
       "  'lastTradeTimestamp': None,\n",
       "  'symbol': None,\n",
       "  'type': None,\n",
       "  'side': None,\n",
       "  'price': None,\n",
       "  'amount': None,\n",
       "  'cost': None,\n",
       "  'average': None,\n",
       "  'filled': None,\n",
       "  'remaining': None,\n",
       "  'status': None,\n",
       "  'fee': None,\n",
       "  'trades': [],\n",
       "  'timeInForce': None,\n",
       "  'postOnly': None,\n",
       "  'stopPrice': None,\n",
       "  'triggerPrice': None,\n",
       "  'info': {'code': '200000', 'data': {'orderId': '117344826030030850'}},\n",
       "  'fees': [],\n",
       "  'lastUpdateTimestamp': None,\n",
       "  'reduceOnly': None,\n",
       "  'takeProfitPrice': None,\n",
       "  'stopLossPrice': None},\n",
       " 'takeProffit_order': {'id': '117344829989515266',\n",
       "  'clientOrderId': None,\n",
       "  'timestamp': None,\n",
       "  'datetime': None,\n",
       "  'lastTradeTimestamp': None,\n",
       "  'symbol': None,\n",
       "  'type': None,\n",
       "  'side': None,\n",
       "  'price': None,\n",
       "  'amount': None,\n",
       "  'cost': None,\n",
       "  'average': None,\n",
       "  'filled': None,\n",
       "  'remaining': None,\n",
       "  'status': None,\n",
       "  'fee': None,\n",
       "  'trades': [],\n",
       "  'timeInForce': None,\n",
       "  'postOnly': None,\n",
       "  'stopPrice': None,\n",
       "  'triggerPrice': None,\n",
       "  'info': {'code': '200000', 'data': {'orderId': '117344829989515266'}},\n",
       "  'fees': [],\n",
       "  'lastUpdateTimestamp': None,\n",
       "  'reduceOnly': None,\n",
       "  'takeProfitPrice': None,\n",
       "  'stopLossPrice': None}}"
      ]
     },
     "execution_count": 158,
     "metadata": {},
     "output_type": "execute_result"
    }
   ],
   "source": [
    "base = 'SOL'\n",
    "quote = 'USDT'\n",
    "symbolId = f'{base}/{quote}:{quote}'\n",
    "ticker = exchange.fetchTicker(symbolId)\n",
    "current_price = ticker['last']\n",
    "risk = 100.0\n",
    "###\n",
    "balance = exchange.fetchBalance (params = {})\n",
    "free_balance = balance['free'][quote]\n",
    "free_balance\n",
    "###\n",
    "leverage = 10\n",
    "direction = -1\n",
    "# \n",
    "# marg = 0.005\n",
    "# stopLossPrice = current_price * (1 - direction * marg)\n",
    "# takeProfitPrice = current_price * (1 + direction * 2*marg)\n",
    "stopLossPrice = 60.03\n",
    "takeProfitPrice = 51.72\n",
    "\n",
    "stop_range = (current_price - stopLossPrice)\n",
    "size = risk / stop_range  * direction\n",
    "\n",
    "type = 'market'\n",
    "side = 'buy' if direction == 1 else 'sell'\n",
    "stopLoss_type = 'market'\n",
    "takeProfit_type = 'market'\n",
    "\n",
    "opposite_side = 'sell' if side == 'buy' else 'buy'\n",
    "stoploss_direction = 'down' if side == 'buy' else 'up'\n",
    "takeProfit_direction = 'up' if side == 'buy' else 'down'\n",
    "\n",
    "\n",
    "price = current_price\n",
    "\n",
    "pprint(dict(price=price, stopLossPrice=stopLossPrice, takeProfitPrice=takeProfitPrice, stop_range=stop_range, size=size, total=size * price * leverage))\n",
    "# symbol\n",
    "#####\n",
    "\n",
    "\n",
    "# clientOid = uuid.uuid4()\n",
    "\n",
    "params = {\n",
    "    'leverage': leverage,\n",
    "}\n",
    "order = exchange.createOrder(symbolId, type, side, size, price=price, params=params)\n",
    "\n",
    "\n",
    "stopLoss_params = {\n",
    "    'leverage': leverage,\n",
    "    'stopLossPrice': stopLossPrice,\n",
    "    # 'stopPriceType':'MP',\n",
    "    'stop': stoploss_direction,\n",
    "    'reduceOnly': False\n",
    "}\n",
    "stopLoss_order = exchange.createOrder(symbolId, stopLoss_type, opposite_side, size, price=price, params=stopLoss_params)\n",
    "\n",
    "takeProffit_params = {\n",
    "    'leverage': leverage,\n",
    "    'takeProfitPrice': takeProfitPrice,\n",
    "    # 'takeProfitPriceType':'MP',\n",
    "    'stop': takeProfit_direction,\n",
    "    'reduceOnly': False\n",
    "}\n",
    "takeProffit_order = exchange.createOrder(symbolId, takeProfit_type, opposite_side, size, price=price, params=takeProffit_params)\n",
    "\n",
    "xposition = dict(order=order, stopLoss_order=stopLoss_order, takeProffit_order=takeProffit_order)\n",
    "xposition\n"
   ]
  },
  {
   "cell_type": "code",
   "execution_count": 90,
   "metadata": {},
   "outputs": [
    {
     "data": {
      "text/plain": [
       "10.0"
      ]
     },
     "execution_count": 90,
     "metadata": {},
     "output_type": "execute_result"
    }
   ],
   "source": [
    "\n",
    "1530.221882172912 * 0.0006535000000000013 * leverage"
   ]
  },
  {
   "cell_type": "code",
   "execution_count": 93,
   "metadata": {},
   "outputs": [],
   "source": []
  },
  {
   "cell_type": "code",
   "execution_count": 132,
   "metadata": {},
   "outputs": [
    {
     "data": {
      "text/plain": [
       "{'code': '200000', 'data': []}"
      ]
     },
     "execution_count": 132,
     "metadata": {},
     "output_type": "execute_result"
    }
   ],
   "source": [
    "close_position(symbolId='DOTUSDTM')\n",
    "exchange.futuresPrivateGetPositions()"
   ]
  },
  {
   "cell_type": "code",
   "execution_count": 135,
   "metadata": {},
   "outputs": [
    {
     "data": {
      "text/plain": [
       "{'code': '200000',\n",
       " 'data': {'currentPage': 1,\n",
       "  'pageSize': 50,\n",
       "  'totalNum': 0,\n",
       "  'totalPage': 0,\n",
       "  'items': None}}"
      ]
     },
     "execution_count": 135,
     "metadata": {},
     "output_type": "execute_result"
    }
   ],
   "source": [
    "exchange.futuresPrivateDeleteStopOrders(params={'symbol': 'SOLUSDTM'})\n",
    "exchange.futuresPrivateGetStopOrders()"
   ]
  },
  {
   "cell_type": "code",
   "execution_count": 160,
   "metadata": {},
   "outputs": [
    {
     "data": {
      "text/plain": [
       "9.801600000000008"
      ]
     },
     "execution_count": 160,
     "metadata": {},
     "output_type": "execute_result"
    }
   ],
   "source": [
    "-3.2 * (56.967 - 60.03)"
   ]
  }
 ],
 "metadata": {
  "kernelspec": {
   "display_name": "py310",
   "language": "python",
   "name": "python3"
  },
  "language_info": {
   "codemirror_mode": {
    "name": "ipython",
    "version": 3
   },
   "file_extension": ".py",
   "mimetype": "text/x-python",
   "name": "python",
   "nbconvert_exporter": "python",
   "pygments_lexer": "ipython3",
   "version": "3.10.13"
  }
 },
 "nbformat": 4,
 "nbformat_minor": 2
}
