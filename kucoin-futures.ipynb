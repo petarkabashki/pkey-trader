{
 "cells": [
  {
   "cell_type": "code",
   "execution_count": 1,
   "metadata": {},
   "outputs": [],
   "source": [
    "\n",
    "import uuid\n",
    "import pandas as pd\n",
    "import sys\n",
    "from pprint import pprint\n",
    "\n",
    "\n",
    "import sys, os\n",
    "sys.path.append(os.path.abspath('.'))\n",
    "\n",
    "from itertools import *\n",
    "import ccxt\n",
    "\n",
    "import ccxt.pro as ccxtpro\n",
    "from asyncio import run\n",
    "import asyncio\n",
    "from threading import Thread\n",
    "\n",
    "from typing import Literal"
   ]
  },
  {
   "cell_type": "code",
   "execution_count": 2,
   "metadata": {},
   "outputs": [
    {
     "data": {
      "text/plain": [
       "{'apiKey': '655f763effa2720001d2f3f4',\n",
       " 'secret': '1f52656e-dd97-4c72-9a8b-eb0dc3171f8d',\n",
       " 'password': '#2M%RSN$c*4f1jDYVCiOUmTJf$#RYF'}"
      ]
     },
     "execution_count": 2,
     "metadata": {},
     "output_type": "execute_result"
    }
   ],
   "source": [
    "from api_config import *\n",
    "# side = Literal['buy', 'sell']\n",
    "buy = 'buy'\n",
    "sell = 'sell'\n",
    "creds\n"
   ]
  },
  {
   "cell_type": "code",
   "execution_count": 3,
   "metadata": {},
   "outputs": [
    {
     "name": "stdout",
     "output_type": "stream",
     "text": [
      "python 3.10.13 | packaged by conda-forge | (main, Oct 26 2023, 18:07:37) [GCC 12.3.0]\n",
      "CCXT Version: 4.1.63\n"
     ]
    }
   ],
   "source": [
    "\n",
    "print('python', sys.version)\n",
    "print('CCXT Version:', ccxt.__version__)\n"
   ]
  },
  {
   "cell_type": "code",
   "execution_count": 4,
   "metadata": {},
   "outputs": [
    {
     "data": {
      "text/html": [
       "<div>\n",
       "<style scoped>\n",
       "    .dataframe tbody tr th:only-of-type {\n",
       "        vertical-align: middle;\n",
       "    }\n",
       "\n",
       "    .dataframe tbody tr th {\n",
       "        vertical-align: top;\n",
       "    }\n",
       "\n",
       "    .dataframe thead th {\n",
       "        text-align: right;\n",
       "    }\n",
       "</style>\n",
       "<table border=\"1\" class=\"dataframe\">\n",
       "  <thead>\n",
       "    <tr style=\"text-align: right;\">\n",
       "      <th></th>\n",
       "      <th>id</th>\n",
       "      <th>lowercaseId</th>\n",
       "      <th>symbol</th>\n",
       "      <th>base</th>\n",
       "      <th>quote</th>\n",
       "      <th>settle</th>\n",
       "      <th>baseId</th>\n",
       "      <th>quoteId</th>\n",
       "      <th>settleId</th>\n",
       "      <th>type</th>\n",
       "      <th>...</th>\n",
       "      <th>expiryDatetime</th>\n",
       "      <th>strike</th>\n",
       "      <th>optionType</th>\n",
       "      <th>precision</th>\n",
       "      <th>limits</th>\n",
       "      <th>created</th>\n",
       "      <th>info</th>\n",
       "      <th>percentage</th>\n",
       "      <th>tierBased</th>\n",
       "      <th>tiers</th>\n",
       "    </tr>\n",
       "  </thead>\n",
       "  <tbody>\n",
       "    <tr>\n",
       "      <th>BTC/USDT:USDT</th>\n",
       "      <td>XBTUSDTM</td>\n",
       "      <td>None</td>\n",
       "      <td>BTC/USDT:USDT</td>\n",
       "      <td>BTC</td>\n",
       "      <td>USDT</td>\n",
       "      <td>USDT</td>\n",
       "      <td>XBT</td>\n",
       "      <td>USDT</td>\n",
       "      <td>USDT</td>\n",
       "      <td>swap</td>\n",
       "      <td>...</td>\n",
       "      <td>None</td>\n",
       "      <td>None</td>\n",
       "      <td>None</td>\n",
       "      <td>{'amount': 1.0, 'price': 0.1, 'cost': None, 'b...</td>\n",
       "      <td>{'leverage': {'min': 1.0, 'max': 125.0}, 'amou...</td>\n",
       "      <td>1585555200000</td>\n",
       "      <td>{'symbol': 'XBTUSDTM', 'rootSymbol': 'USDT', '...</td>\n",
       "      <td>True</td>\n",
       "      <td>True</td>\n",
       "      <td>{'taker': [[0.0, 0.0006], [50.0, 0.0006], [200...</td>\n",
       "    </tr>\n",
       "    <tr>\n",
       "      <th>BTC/USD:BTC</th>\n",
       "      <td>XBTUSDM</td>\n",
       "      <td>None</td>\n",
       "      <td>BTC/USD:BTC</td>\n",
       "      <td>BTC</td>\n",
       "      <td>USD</td>\n",
       "      <td>BTC</td>\n",
       "      <td>XBT</td>\n",
       "      <td>USD</td>\n",
       "      <td>XBT</td>\n",
       "      <td>swap</td>\n",
       "      <td>...</td>\n",
       "      <td>None</td>\n",
       "      <td>None</td>\n",
       "      <td>None</td>\n",
       "      <td>{'amount': 1.0, 'price': 0.1, 'cost': None, 'b...</td>\n",
       "      <td>{'leverage': {'min': 1.0, 'max': 50.0}, 'amoun...</td>\n",
       "      <td>1552638575000</td>\n",
       "      <td>{'symbol': 'XBTUSDM', 'rootSymbol': 'XBT', 'ty...</td>\n",
       "      <td>True</td>\n",
       "      <td>True</td>\n",
       "      <td>{'taker': [[0.0, 0.0006], [50.0, 0.0006], [200...</td>\n",
       "    </tr>\n",
       "    <tr>\n",
       "      <th>ETH/USDT:USDT</th>\n",
       "      <td>ETHUSDTM</td>\n",
       "      <td>None</td>\n",
       "      <td>ETH/USDT:USDT</td>\n",
       "      <td>ETH</td>\n",
       "      <td>USDT</td>\n",
       "      <td>USDT</td>\n",
       "      <td>ETH</td>\n",
       "      <td>USDT</td>\n",
       "      <td>USDT</td>\n",
       "      <td>swap</td>\n",
       "      <td>...</td>\n",
       "      <td>None</td>\n",
       "      <td>None</td>\n",
       "      <td>None</td>\n",
       "      <td>{'amount': 1.0, 'price': 0.01, 'cost': None, '...</td>\n",
       "      <td>{'leverage': {'min': 1.0, 'max': 100.0}, 'amou...</td>\n",
       "      <td>1591086000000</td>\n",
       "      <td>{'symbol': 'ETHUSDTM', 'rootSymbol': 'USDT', '...</td>\n",
       "      <td>True</td>\n",
       "      <td>True</td>\n",
       "      <td>{'taker': [[0.0, 0.0006], [50.0, 0.0006], [200...</td>\n",
       "    </tr>\n",
       "    <tr>\n",
       "      <th>BCH/USDT:USDT</th>\n",
       "      <td>BCHUSDTM</td>\n",
       "      <td>None</td>\n",
       "      <td>BCH/USDT:USDT</td>\n",
       "      <td>BCH</td>\n",
       "      <td>USDT</td>\n",
       "      <td>USDT</td>\n",
       "      <td>BCH</td>\n",
       "      <td>USDT</td>\n",
       "      <td>USDT</td>\n",
       "      <td>swap</td>\n",
       "      <td>...</td>\n",
       "      <td>None</td>\n",
       "      <td>None</td>\n",
       "      <td>None</td>\n",
       "      <td>{'amount': 1.0, 'price': 0.01, 'cost': None, '...</td>\n",
       "      <td>{'leverage': {'min': 1.0, 'max': 75.0}, 'amoun...</td>\n",
       "      <td>1595406600000</td>\n",
       "      <td>{'symbol': 'BCHUSDTM', 'rootSymbol': 'USDT', '...</td>\n",
       "      <td>True</td>\n",
       "      <td>True</td>\n",
       "      <td>{'taker': [[0.0, 0.0006], [50.0, 0.0006], [200...</td>\n",
       "    </tr>\n",
       "    <tr>\n",
       "      <th>BSV/USDT:USDT</th>\n",
       "      <td>BSVUSDTM</td>\n",
       "      <td>None</td>\n",
       "      <td>BSV/USDT:USDT</td>\n",
       "      <td>BSV</td>\n",
       "      <td>USDT</td>\n",
       "      <td>USDT</td>\n",
       "      <td>BSV</td>\n",
       "      <td>USDT</td>\n",
       "      <td>USDT</td>\n",
       "      <td>swap</td>\n",
       "      <td>...</td>\n",
       "      <td>None</td>\n",
       "      <td>None</td>\n",
       "      <td>None</td>\n",
       "      <td>{'amount': 1.0, 'price': 0.01, 'cost': None, '...</td>\n",
       "      <td>{'leverage': {'min': 1.0, 'max': 50.0}, 'amoun...</td>\n",
       "      <td>1595406600000</td>\n",
       "      <td>{'symbol': 'BSVUSDTM', 'rootSymbol': 'USDT', '...</td>\n",
       "      <td>True</td>\n",
       "      <td>True</td>\n",
       "      <td>{'taker': [[0.0, 0.0006], [50.0, 0.0006], [200...</td>\n",
       "    </tr>\n",
       "  </tbody>\n",
       "</table>\n",
       "<p>5 rows × 34 columns</p>\n",
       "</div>"
      ],
      "text/plain": [
       "                     id lowercaseId         symbol base quote settle baseId  \\\n",
       "BTC/USDT:USDT  XBTUSDTM        None  BTC/USDT:USDT  BTC  USDT   USDT    XBT   \n",
       "BTC/USD:BTC     XBTUSDM        None    BTC/USD:BTC  BTC   USD    BTC    XBT   \n",
       "ETH/USDT:USDT  ETHUSDTM        None  ETH/USDT:USDT  ETH  USDT   USDT    ETH   \n",
       "BCH/USDT:USDT  BCHUSDTM        None  BCH/USDT:USDT  BCH  USDT   USDT    BCH   \n",
       "BSV/USDT:USDT  BSVUSDTM        None  BSV/USDT:USDT  BSV  USDT   USDT    BSV   \n",
       "\n",
       "              quoteId settleId  type  ... expiryDatetime strike optionType  \\\n",
       "BTC/USDT:USDT    USDT     USDT  swap  ...           None   None       None   \n",
       "BTC/USD:BTC       USD      XBT  swap  ...           None   None       None   \n",
       "ETH/USDT:USDT    USDT     USDT  swap  ...           None   None       None   \n",
       "BCH/USDT:USDT    USDT     USDT  swap  ...           None   None       None   \n",
       "BSV/USDT:USDT    USDT     USDT  swap  ...           None   None       None   \n",
       "\n",
       "                                                       precision  \\\n",
       "BTC/USDT:USDT  {'amount': 1.0, 'price': 0.1, 'cost': None, 'b...   \n",
       "BTC/USD:BTC    {'amount': 1.0, 'price': 0.1, 'cost': None, 'b...   \n",
       "ETH/USDT:USDT  {'amount': 1.0, 'price': 0.01, 'cost': None, '...   \n",
       "BCH/USDT:USDT  {'amount': 1.0, 'price': 0.01, 'cost': None, '...   \n",
       "BSV/USDT:USDT  {'amount': 1.0, 'price': 0.01, 'cost': None, '...   \n",
       "\n",
       "                                                          limits  \\\n",
       "BTC/USDT:USDT  {'leverage': {'min': 1.0, 'max': 125.0}, 'amou...   \n",
       "BTC/USD:BTC    {'leverage': {'min': 1.0, 'max': 50.0}, 'amoun...   \n",
       "ETH/USDT:USDT  {'leverage': {'min': 1.0, 'max': 100.0}, 'amou...   \n",
       "BCH/USDT:USDT  {'leverage': {'min': 1.0, 'max': 75.0}, 'amoun...   \n",
       "BSV/USDT:USDT  {'leverage': {'min': 1.0, 'max': 50.0}, 'amoun...   \n",
       "\n",
       "                     created  \\\n",
       "BTC/USDT:USDT  1585555200000   \n",
       "BTC/USD:BTC    1552638575000   \n",
       "ETH/USDT:USDT  1591086000000   \n",
       "BCH/USDT:USDT  1595406600000   \n",
       "BSV/USDT:USDT  1595406600000   \n",
       "\n",
       "                                                            info percentage  \\\n",
       "BTC/USDT:USDT  {'symbol': 'XBTUSDTM', 'rootSymbol': 'USDT', '...       True   \n",
       "BTC/USD:BTC    {'symbol': 'XBTUSDM', 'rootSymbol': 'XBT', 'ty...       True   \n",
       "ETH/USDT:USDT  {'symbol': 'ETHUSDTM', 'rootSymbol': 'USDT', '...       True   \n",
       "BCH/USDT:USDT  {'symbol': 'BCHUSDTM', 'rootSymbol': 'USDT', '...       True   \n",
       "BSV/USDT:USDT  {'symbol': 'BSVUSDTM', 'rootSymbol': 'USDT', '...       True   \n",
       "\n",
       "              tierBased                                              tiers  \n",
       "BTC/USDT:USDT      True  {'taker': [[0.0, 0.0006], [50.0, 0.0006], [200...  \n",
       "BTC/USD:BTC        True  {'taker': [[0.0, 0.0006], [50.0, 0.0006], [200...  \n",
       "ETH/USDT:USDT      True  {'taker': [[0.0, 0.0006], [50.0, 0.0006], [200...  \n",
       "BCH/USDT:USDT      True  {'taker': [[0.0, 0.0006], [50.0, 0.0006], [200...  \n",
       "BSV/USDT:USDT      True  {'taker': [[0.0, 0.0006], [50.0, 0.0006], [200...  \n",
       "\n",
       "[5 rows x 34 columns]"
      ]
     },
     "execution_count": 4,
     "metadata": {},
     "output_type": "execute_result"
    }
   ],
   "source": [
    "\n",
    "exchange = ccxt.kucoinfutures({\n",
    "    'adjustForTimeDifference': True,\n",
    "    **creds\n",
    "})\n",
    "# exchange.verbose = True\n",
    "\n",
    "securities = pd.DataFrame(exchange.load_markets()).transpose()\n",
    "securities.head()\n",
    "# pprint(securities)"
   ]
  },
  {
   "cell_type": "code",
   "execution_count": 88,
   "metadata": {},
   "outputs": [],
   "source": [
    "# x: side = sidel"
   ]
  },
  {
   "cell_type": "code",
   "execution_count": 5,
   "metadata": {},
   "outputs": [],
   "source": [
    "\n",
    "class asset:\n",
    "    def __init__(self, exchange, symbol, risk, leverage):\n",
    "        self.exchange = exchange\n",
    "        self.symbol = symbol\n",
    "        self.risk = risk\n",
    "        self.leverage = leverage\n",
    "\n",
    "\n",
    "    def bracket_open(self, price, side, down_price, up_price,  type='market', sl_type='market', tp_type='market'):\n",
    "        sl_price, tp_price = (up_price, down_price) if side == sell else (down_price, up_price)\n",
    "        return self.open(price, side, sl_price, tp_price,  type='market', sl_type='market', tp_type='market')\n",
    "\n",
    "    def open(self, price, side, sl_price, tp_price,  type='market', sl_type='market', tp_type='market'):\n",
    "        if price == 'last':\n",
    "            price = self.exchange.fetch_ticker(self.symbol)['last']\n",
    "        direction = 1 if side == buy else -1 \n",
    "        size = self.risk / (price - sl_price) / self.leverage * direction\n",
    "\n",
    "        params = {\n",
    "            'leverage': self.leverage,\n",
    "            # \"stopLossPrice\": sl_price,\n",
    "            # \"stopPriceType\":  ('down' if side == 'buy' else 'up'),\n",
    "            # 'triggerPriceType': 'last'\n",
    "        }\n",
    "        print('Placing order:', self.symbol,  type, side, size, price)\n",
    "        self.order = self.exchange.createOrder(self.symbol, type, side, size, price=price, params=params)\n",
    "\n",
    "        sl_params = {\n",
    "            'leverage': self.leverage,\n",
    "            \"stopLossPrice\": sl_price,\n",
    "            # \"stopPriceType\":  ('down' if side == 'buy' else 'up'),\n",
    "            'triggerPriceType': 'last',\n",
    "            'reduceOnly': True\n",
    "        }\n",
    "        self.sl_order = self.exchange.createOrder(self.symbol, sl_type, ('sell' if side == 'buy' else 'buy'), size, price=sl_price, params=sl_params)\n",
    "\n",
    "        tp_params = {\n",
    "            'leverage': self.leverage,\n",
    "            'takeProfitPrice': tp_price,\n",
    "            # \"stopPriceType\":  ('down' if side == 'buy' else 'up'),\n",
    "            'triggerPriceType': 'last',\n",
    "            'reduceOnly': True\n",
    "        }\n",
    "        self.tp_order = self.exchange.createOrder(self.symbol, tp_type, ('sell' if side == 'buy' else 'buy'), size, price=price, params=tp_params)\n",
    "\n",
    "    def close(self, type='market', price=None):\n",
    "        tkr = self.exchange.fetch_ticker(self.symbol)\n",
    "        if exchange.futuresprivate_get_position({'symbol': self.symbol})['data']['isOpen']:\n",
    "            self.exchange.futuresPrivatePostOrders({\n",
    "                    \"clientOid\": \"aaa\",\n",
    "                    \"price\": tkr[\"last\"], \n",
    "                    \"type\":'market',\n",
    "                    \"reduceOnly\": True,\n",
    "                    \"closeOrder\": True,\n",
    "                    \"symbol\": self.symbol,\n",
    "            })    \n",
    "        for ord in exchange.futuresprivate_get_orders({'symbol': 'ALGOUSDTM', 'status': 'active'})['data']['items']:\n",
    "            exchange.cancel_order(ord['id'])    \n",
    "\n",
    "        exchange.futuresprivate_delete_stoporders({'symbol': self.symbol})\n",
    "\n",
    "    \n",
    "        "
   ]
  },
  {
   "cell_type": "code",
   "execution_count": 6,
   "metadata": {},
   "outputs": [],
   "source": [
    "algo = asset(exchange, 'ALGOUSDTM', 10, 10)"
   ]
  },
  {
   "cell_type": "code",
   "execution_count": 76,
   "metadata": {},
   "outputs": [
    {
     "name": "stdout",
     "output_type": "stream",
     "text": [
      "Placing order: ALGOUSDTM market sell 3999.9999999999964 0.1348\n"
     ]
    }
   ],
   "source": [
    "algo.bracket_open(0.1348, sell, 0.1338, 0.1353, type='limit' )\n",
    "# algo.order, algo.sl_order, algo.tp_order"
   ]
  },
  {
   "cell_type": "code",
   "execution_count": 73,
   "metadata": {},
   "outputs": [],
   "source": [
    "algo.close()"
   ]
  },
  {
   "cell_type": "code",
   "execution_count": 30,
   "metadata": {},
   "outputs": [],
   "source": [
    "eth = asset(exchange, 'ETHUSDTM', 25, 1)"
   ]
  },
  {
   "cell_type": "code",
   "execution_count": 31,
   "metadata": {},
   "outputs": [
    {
     "name": "stdout",
     "output_type": "stream",
     "text": [
      "Placing order: ETHUSDTM market buy 1.1904761904761905 2028\n"
     ]
    }
   ],
   "source": [
    "eth.bracket_open(2028, buy, 2007, 2068, type='limit', tp_type='limit' )"
   ]
  },
  {
   "cell_type": "code",
   "execution_count": null,
   "metadata": {},
   "outputs": [],
   "source": []
  },
  {
   "cell_type": "code",
   "execution_count": 13,
   "metadata": {},
   "outputs": [],
   "source": [
    "eth.close()"
   ]
  },
  {
   "cell_type": "code",
   "execution_count": null,
   "metadata": {},
   "outputs": [],
   "source": [
    "# exchange.futuresprivate_get_position({'symbol': 'ALGOUSDTM'})\n",
    "# exchange.cancel({'symbol': 'ALGOUSDTM'})\n",
    "    # exchna\n",
    "exchange.futuresprivate_get_orders({'symbol': 'ALGOUSDTM', 'status': 'active'})"
   ]
  },
  {
   "cell_type": "code",
   "execution_count": null,
   "metadata": {},
   "outputs": [],
   "source": [
    "algo.close()"
   ]
  },
  {
   "cell_type": "code",
   "execution_count": null,
   "metadata": {},
   "outputs": [],
   "source": [
    "\n"
   ]
  },
  {
   "cell_type": "code",
   "execution_count": 24,
   "metadata": {},
   "outputs": [
    {
     "name": "stdout",
     "output_type": "stream",
     "text": [
      "Placing order: ETHUSDTM limit buy 1.3157894736842106 1990\n"
     ]
    },
    {
     "data": {
      "text/plain": [
       "{'id': '119445795538792448',\n",
       " 'clientOrderId': None,\n",
       " 'timestamp': None,\n",
       " 'datetime': None,\n",
       " 'lastTradeTimestamp': None,\n",
       " 'symbol': None,\n",
       " 'type': None,\n",
       " 'side': None,\n",
       " 'price': None,\n",
       " 'amount': None,\n",
       " 'cost': None,\n",
       " 'average': None,\n",
       " 'filled': None,\n",
       " 'remaining': None,\n",
       " 'status': None,\n",
       " 'fee': None,\n",
       " 'trades': [],\n",
       " 'timeInForce': None,\n",
       " 'postOnly': None,\n",
       " 'stopPrice': None,\n",
       " 'triggerPrice': None,\n",
       " 'info': {'code': '200000', 'data': {'orderId': '119445795538792448'}},\n",
       " 'fees': [],\n",
       " 'lastUpdateTimestamp': None,\n",
       " 'reduceOnly': None,\n",
       " 'takeProfitPrice': None,\n",
       " 'stopLossPrice': None}"
      ]
     },
     "execution_count": 24,
     "metadata": {},
     "output_type": "execute_result"
    }
   ],
   "source": [
    "leverage = 1\n",
    "risk = 25\n",
    "symbol = 'ETHUSDTM'\n",
    "sl_price = 1971\n",
    "type, side, price = 'limit', buy, 1990\n",
    "size = risk / (price - sl_price) / leverage \n",
    "params = {\n",
    "    'leverage': leverage,\n",
    "}\n",
    "print('Placing order:', symbol,  type, side, size, price)\n",
    "order = exchange.create_order(symbol, type, side, size, price=price, params=params)\n",
    "order"
   ]
  },
  {
   "cell_type": "code",
   "execution_count": null,
   "metadata": {},
   "outputs": [],
   "source": [
    "stop_ws_orders = True\n",
    "# orders_thread.join()"
   ]
  },
  {
   "cell_type": "code",
   "execution_count": null,
   "metadata": {},
   "outputs": [],
   "source": [
    "stop_orders_thread = False\n",
    "async def ws_orders(stop):\n",
    "    exchange = ccxtpro.kucoinfutures({'newUpdates': False})\n",
    "    while True:\n",
    "        orderbook = await exchange.watch_order_book('ADAUSDTM')\n",
    "        print(orderbook['asks'][0], orderbook['bids'][0])\n",
    "        if stop(): break\n",
    "    await exchange.close()\n",
    "\n",
    "\n",
    "orders_loop = asyncio.new_event_loop()\n",
    "\n",
    "def setup_loop(loop):\n",
    "    asyncio.set_event_loop(loop)\n",
    "    loop.run_forever()\n",
    "\n",
    "orders_thread = Thread(target=setup_loop, args=(orders_loop,))\n",
    "orders_thread.start()\n",
    "orders_future = asyncio.run_coroutine_threadsafe(ws_orders(lambda: stop_orders_thread), orders_loop)  \n",
    "\n",
    "# run(main())"
   ]
  },
  {
   "cell_type": "code",
   "execution_count": null,
   "metadata": {},
   "outputs": [],
   "source": []
  }
 ],
 "metadata": {
  "kernelspec": {
   "display_name": "py310",
   "language": "python",
   "name": "python3"
  },
  "language_info": {
   "codemirror_mode": {
    "name": "ipython",
    "version": 3
   },
   "file_extension": ".py",
   "mimetype": "text/x-python",
   "name": "python",
   "nbconvert_exporter": "python",
   "pygments_lexer": "ipython3",
   "version": "3.10.13"
  }
 },
 "nbformat": 4,
 "nbformat_minor": 2
}
